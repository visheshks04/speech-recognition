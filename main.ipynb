{
 "cells": [
  {
   "cell_type": "code",
   "execution_count": null,
   "source": [
    "from get_audio import AudioFetcher\n",
    "\n",
    "url = # 'https://youtu.be/HtSuA80QTyo'\n",
    "audio_fetcher = AudioFetcher(url)\n",
    "save_location = 'data/audio.webm'\n",
    "audio_fetcher.fetch(save_location)\n",
    "wav_location = 'data/FullAudio.wav'\n",
    "audio_fetcher.convert_to_wav(wav_location)"
   ],
   "outputs": [],
   "metadata": {}
  },
  {
   "cell_type": "code",
   "execution_count": null,
   "source": [
    "from get_cc import CaptionFetcher\n",
    "\n",
    "url = # https://www.youtube.com/api/timedtext?v=HtSuA80QTyo&asr_langs=de%2Cen%2Ces%2Cfr%2Cid%2Cit%2Cja%2Cko%2Cnl%2Cpt%2Cru%2Ctr%2Cvi&caps=asr&exp=xftt%2Cxctw&xoaf=5&hl=en&ip=0.0.0.0&ipbits=0&expire=1631187357&sparams=ip%2Cipbits%2Cexpire%2Cv%2Casr_langs%2Ccaps%2Cexp%2Cxoaf&signature=8D60161D31A8301B3B8524EFD3F22E5D4E66957A.2BF728B067CB1EA262D8FCF9E898F109FBE0A69B&key=yt8&lang=en&fmt=json3&xorb=2&xobt=3&xovt=3\n",
    "\n",
    "save_location = 'data/captions_data.json'\n",
    "caption_fetcher = CaptionFetcher(url)\n",
    "caption_fetcher.fetch(save_location)"
   ],
   "outputs": [],
   "metadata": {}
  },
  {
   "cell_type": "code",
   "execution_count": null,
   "source": [],
   "outputs": [],
   "metadata": {}
  }
 ],
 "metadata": {
  "orig_nbformat": 4,
  "language_info": {
   "name": "python"
  }
 },
 "nbformat": 4,
 "nbformat_minor": 2
}