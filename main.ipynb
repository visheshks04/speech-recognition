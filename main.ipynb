{
 "cells": [
  {
   "cell_type": "code",
   "execution_count": null,
   "metadata": {},
   "outputs": [],
   "source": [
    "from get_audio import AudioFetcher\n",
    "\n",
    "url = # 'https://youtu.be/HtSuA80QTyo'\n",
    "audio_fetcher = AudioFetcher(url)\n",
    "save_location = 'data/fetchedAudio.webm'\n",
    "audio_fetcher.fetch(save_location)\n",
    "wav_location = 'data/ConvertedToWav.wav'\n",
    "audio_fetcher.convert_to_wav(wav_location)"
   ]
  },
  {
   "cell_type": "code",
   "execution_count": null,
   "metadata": {},
   "outputs": [],
   "source": [
    "# UPLOADING THE CAPTIONS DATA DIRECTLY CAUSE THIS AINT WORKING FOR SOME REASON.\n",
    "\n",
    "from get_cc import CaptionFetcher\n",
    "\n",
    "# url = # https://www.youtube.com/api/timedtext?v=HtSuA80QTyo&asr_langs=de%2Cen%2Ces%2Cfr%2Cid%2Cit%2Cja%2Cko%2Cnl%2Cpt%2Cru%2Ctr%2Cvi&caps=asr&exp=xftt%2Cxctw&xoaf=5&hl=en&ip=0.0.0.0&ipbits=0&expire=1631187357&sparams=ip%2Cipbits%2Cexpire%2Cv%2Casr_langs%2Ccaps%2Cexp%2Cxoaf&signature=8D60161D31A8301B3B8524EFD3F22E5D4E66957A.2BF728B067CB1EA262D8FCF9E898F109FBE0A69B&key=yt8&lang=en&fmt=json3&xorb=2&xobt=3&xovt=3\n",
    "\n",
    "# save_location = 'data/captions_data.json'\n",
    "caption_fetcher = CaptionFetcher(url)\n",
    "# caption_fetcher.fetch(save_location)"
   ]
  },
  {
   "cell_type": "code",
   "execution_count": null,
   "metadata": {},
   "outputs": [],
   "source": [
    "# Create a new json\n",
    "\n",
    "from create_jsons import create_jsons\n",
    "create_jsons('data/captions_data.json', 'data/dataset.json')"
   ]
  },
  {
   "cell_type": "code",
   "execution_count": null,
   "metadata": {},
   "outputs": [],
   "source": [
    "# Chopping clips\n",
    "\n",
    "from chop_audio import AudioChopper\n",
    "\n",
    "chopper = AudioChopper(wav_location=wav_location, save_location='data/clips/', time_stamps_location='data/captions_data.json')"
   ]
  },
  {
   "cell_type": "code",
   "execution_count": null,
   "metadata": {},
   "outputs": [],
   "source": [
    "# Clean The Data\n",
    "\n",
    "caption_fetcher.clean_data('data/dataset.json')"
   ]
  },
  {
   "cell_type": "markdown",
   "metadata": {},
   "source": [
    "# MODEL"
   ]
  },
  {
   "cell_type": "markdown",
   "metadata": {},
   "source": []
  }
 ],
 "metadata": {
  "language_info": {
   "name": "python"
  },
  "orig_nbformat": 4
 },
 "nbformat": 4,
 "nbformat_minor": 2
}
